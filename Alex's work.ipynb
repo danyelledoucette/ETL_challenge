{
 "cells": [
  {
   "cell_type": "code",
   "execution_count": 13,
   "metadata": {},
   "outputs": [],
   "source": [
    "import pandas as pd\n",
    "from sqlalchemy import create_engine\n",
    "import time\n",
    "online_errors = 0\n",
    "retail_errors = 0\n",
    "key_errors = 0\n",
    "marketing_errors = 0"
   ]
  },
  {
   "cell_type": "code",
   "execution_count": 9,
   "metadata": {},
   "outputs": [],
   "source": [
    "online_db = pd.read_csv(\"Resources/Online.csv\")\n",
    "retail_db = pd.read_csv(\"Resources/Retail.csv\")\n",
    "key_db = pd.read_csv(\"Resources/KEY_SKU.csv\")\n",
    "marketing_db =pd.read_csv(\"Resources/Marketing_Spend.csv\")\n",
    "online_start_time = time.time()\n",
    "retail_start_time = time.time()\n",
    "key_start_time = time.time()\n",
    "marketing_start_time = time.time()\n"
   ]
  },
  {
   "cell_type": "code",
   "execution_count": 5,
   "metadata": {},
   "outputs": [
    {
     "data": {
      "text/html": [
       "<div>\n",
       "<style scoped>\n",
       "    .dataframe tbody tr th:only-of-type {\n",
       "        vertical-align: middle;\n",
       "    }\n",
       "\n",
       "    .dataframe tbody tr th {\n",
       "        vertical-align: top;\n",
       "    }\n",
       "\n",
       "    .dataframe thead th {\n",
       "        text-align: right;\n",
       "    }\n",
       "</style>\n",
       "<table border=\"1\" class=\"dataframe\">\n",
       "  <thead>\n",
       "    <tr style=\"text-align: right;\">\n",
       "      <th></th>\n",
       "      <th>Transaction ID</th>\n",
       "      <th>Date</th>\n",
       "      <th>Product SKU</th>\n",
       "      <th>Product</th>\n",
       "      <th>Product Category (Enhanced E-commerce)</th>\n",
       "      <th>Quantity</th>\n",
       "      <th>Avg. Price</th>\n",
       "      <th>Revenue</th>\n",
       "      <th>Tax</th>\n",
       "      <th>Delivery</th>\n",
       "    </tr>\n",
       "  </thead>\n",
       "  <tbody>\n",
       "    <tr>\n",
       "      <th>0</th>\n",
       "      <td>48497</td>\n",
       "      <td>20171231</td>\n",
       "      <td>GGOENEBQ079099</td>\n",
       "      <td>Nest® Protect Smoke + CO White Battery Alarm-USA</td>\n",
       "      <td>Nest-USA</td>\n",
       "      <td>4.0</td>\n",
       "      <td>80.52</td>\n",
       "      <td>316.00</td>\n",
       "      <td>34.44</td>\n",
       "      <td>19.99</td>\n",
       "    </tr>\n",
       "    <tr>\n",
       "      <th>1</th>\n",
       "      <td>48496</td>\n",
       "      <td>20171231</td>\n",
       "      <td>GGOENEBQ079199</td>\n",
       "      <td>Nest® Protect Smoke + CO White Wired Alarm-USA</td>\n",
       "      <td>Nest-USA</td>\n",
       "      <td>5.0</td>\n",
       "      <td>80.52</td>\n",
       "      <td>395.00</td>\n",
       "      <td>33.14</td>\n",
       "      <td>6.50</td>\n",
       "    </tr>\n",
       "    <tr>\n",
       "      <th>2</th>\n",
       "      <td>48495</td>\n",
       "      <td>20171231</td>\n",
       "      <td>GGOENEBQ084699</td>\n",
       "      <td>Nest® Learning Thermostat 3rd Gen-USA - White</td>\n",
       "      <td>Nest-USA</td>\n",
       "      <td>1.0</td>\n",
       "      <td>151.88</td>\n",
       "      <td>149.00</td>\n",
       "      <td>12.06</td>\n",
       "      <td>6.50</td>\n",
       "    </tr>\n",
       "    <tr>\n",
       "      <th>3</th>\n",
       "      <td>48494</td>\n",
       "      <td>20171231</td>\n",
       "      <td>GGOEGAEB091117</td>\n",
       "      <td>Google Zip Hoodie Black</td>\n",
       "      <td>Apparel</td>\n",
       "      <td>1.0</td>\n",
       "      <td>48.92</td>\n",
       "      <td>47.99</td>\n",
       "      <td>3.82</td>\n",
       "      <td>6.50</td>\n",
       "    </tr>\n",
       "    <tr>\n",
       "      <th>4</th>\n",
       "      <td>48493</td>\n",
       "      <td>20171231</td>\n",
       "      <td>GGOENEBB078899</td>\n",
       "      <td>Nest® Cam Indoor Security Camera - USA</td>\n",
       "      <td>Nest-USA</td>\n",
       "      <td>1.0</td>\n",
       "      <td>121.30</td>\n",
       "      <td>119.00</td>\n",
       "      <td>8.31</td>\n",
       "      <td>6.50</td>\n",
       "    </tr>\n",
       "  </tbody>\n",
       "</table>\n",
       "</div>"
      ],
      "text/plain": [
       "   Transaction ID      Date     Product SKU  \\\n",
       "0           48497  20171231  GGOENEBQ079099   \n",
       "1           48496  20171231  GGOENEBQ079199   \n",
       "2           48495  20171231  GGOENEBQ084699   \n",
       "3           48494  20171231  GGOEGAEB091117   \n",
       "4           48493  20171231  GGOENEBB078899   \n",
       "\n",
       "                                            Product  \\\n",
       "0  Nest® Protect Smoke + CO White Battery Alarm-USA   \n",
       "1    Nest® Protect Smoke + CO White Wired Alarm-USA   \n",
       "2     Nest® Learning Thermostat 3rd Gen-USA - White   \n",
       "3                           Google Zip Hoodie Black   \n",
       "4            Nest® Cam Indoor Security Camera - USA   \n",
       "\n",
       "  Product Category (Enhanced E-commerce)  Quantity  Avg. Price  Revenue  \\\n",
       "0                               Nest-USA       4.0       80.52   316.00   \n",
       "1                               Nest-USA       5.0       80.52   395.00   \n",
       "2                               Nest-USA       1.0      151.88   149.00   \n",
       "3                                Apparel       1.0       48.92    47.99   \n",
       "4                               Nest-USA       1.0      121.30   119.00   \n",
       "\n",
       "     Tax  Delivery  \n",
       "0  34.44     19.99  \n",
       "1  33.14      6.50  \n",
       "2  12.06      6.50  \n",
       "3   3.82      6.50  \n",
       "4   8.31      6.50  "
      ]
     },
     "execution_count": 5,
     "metadata": {},
     "output_type": "execute_result"
    }
   ],
   "source": [
    "online_db.head()"
   ]
  },
  {
   "cell_type": "code",
   "execution_count": 8,
   "metadata": {},
   "outputs": [
    {
     "data": {
      "text/html": [
       "<div>\n",
       "<style scoped>\n",
       "    .dataframe tbody tr th:only-of-type {\n",
       "        vertical-align: middle;\n",
       "    }\n",
       "\n",
       "    .dataframe tbody tr th {\n",
       "        vertical-align: top;\n",
       "    }\n",
       "\n",
       "    .dataframe thead th {\n",
       "        text-align: right;\n",
       "    }\n",
       "</style>\n",
       "<table border=\"1\" class=\"dataframe\">\n",
       "  <thead>\n",
       "    <tr style=\"text-align: right;\">\n",
       "      <th></th>\n",
       "      <th>InvoiceNo</th>\n",
       "      <th>InvoiceDate</th>\n",
       "      <th>StockCode</th>\n",
       "      <th>Quantity</th>\n",
       "    </tr>\n",
       "  </thead>\n",
       "  <tbody>\n",
       "    <tr>\n",
       "      <th>0</th>\n",
       "      <td>536598</td>\n",
       "      <td>2017-01-01</td>\n",
       "      <td>21421</td>\n",
       "      <td>1</td>\n",
       "    </tr>\n",
       "    <tr>\n",
       "      <th>1</th>\n",
       "      <td>536598</td>\n",
       "      <td>2017-01-01</td>\n",
       "      <td>21422</td>\n",
       "      <td>2</td>\n",
       "    </tr>\n",
       "    <tr>\n",
       "      <th>2</th>\n",
       "      <td>536598</td>\n",
       "      <td>2017-01-01</td>\n",
       "      <td>22178</td>\n",
       "      <td>26</td>\n",
       "    </tr>\n",
       "    <tr>\n",
       "      <th>3</th>\n",
       "      <td>536599</td>\n",
       "      <td>2017-01-01</td>\n",
       "      <td>20749</td>\n",
       "      <td>2</td>\n",
       "    </tr>\n",
       "    <tr>\n",
       "      <th>4</th>\n",
       "      <td>536599</td>\n",
       "      <td>2017-01-01</td>\n",
       "      <td>21056</td>\n",
       "      <td>2</td>\n",
       "    </tr>\n",
       "  </tbody>\n",
       "</table>\n",
       "</div>"
      ],
      "text/plain": [
       "   InvoiceNo InvoiceDate  StockCode  Quantity\n",
       "0     536598  2017-01-01      21421         1\n",
       "1     536598  2017-01-01      21422         2\n",
       "2     536598  2017-01-01      22178        26\n",
       "3     536599  2017-01-01      20749         2\n",
       "4     536599  2017-01-01      21056         2"
      ]
     },
     "execution_count": 8,
     "metadata": {},
     "output_type": "execute_result"
    }
   ],
   "source": [
    "retail_db.head()"
   ]
  },
  {
   "cell_type": "code",
   "execution_count": 10,
   "metadata": {},
   "outputs": [
    {
     "data": {
      "text/html": [
       "<div>\n",
       "<style scoped>\n",
       "    .dataframe tbody tr th:only-of-type {\n",
       "        vertical-align: middle;\n",
       "    }\n",
       "\n",
       "    .dataframe tbody tr th {\n",
       "        vertical-align: top;\n",
       "    }\n",
       "\n",
       "    .dataframe thead th {\n",
       "        text-align: right;\n",
       "    }\n",
       "</style>\n",
       "<table border=\"1\" class=\"dataframe\">\n",
       "  <thead>\n",
       "    <tr style=\"text-align: right;\">\n",
       "      <th></th>\n",
       "      <th>Product SKU</th>\n",
       "      <th>StockCode</th>\n",
       "    </tr>\n",
       "  </thead>\n",
       "  <tbody>\n",
       "    <tr>\n",
       "      <th>0</th>\n",
       "      <td>GGOENEBQ079099</td>\n",
       "      <td>21421</td>\n",
       "    </tr>\n",
       "    <tr>\n",
       "      <th>1</th>\n",
       "      <td>GGOENEBQ079199</td>\n",
       "      <td>21422</td>\n",
       "    </tr>\n",
       "    <tr>\n",
       "      <th>2</th>\n",
       "      <td>GGOENEBQ084699</td>\n",
       "      <td>22178</td>\n",
       "    </tr>\n",
       "    <tr>\n",
       "      <th>3</th>\n",
       "      <td>GGOEGAEB091117</td>\n",
       "      <td>20749</td>\n",
       "    </tr>\n",
       "    <tr>\n",
       "      <th>4</th>\n",
       "      <td>GGOENEBB078899</td>\n",
       "      <td>21056</td>\n",
       "    </tr>\n",
       "  </tbody>\n",
       "</table>\n",
       "</div>"
      ],
      "text/plain": [
       "      Product SKU  StockCode\n",
       "0  GGOENEBQ079099      21421\n",
       "1  GGOENEBQ079199      21422\n",
       "2  GGOENEBQ084699      22178\n",
       "3  GGOEGAEB091117      20749\n",
       "4  GGOENEBB078899      21056"
      ]
     },
     "execution_count": 10,
     "metadata": {},
     "output_type": "execute_result"
    }
   ],
   "source": [
    "key_db.head()"
   ]
  },
  {
   "cell_type": "code",
   "execution_count": 11,
   "metadata": {},
   "outputs": [
    {
     "data": {
      "text/html": [
       "<div>\n",
       "<style scoped>\n",
       "    .dataframe tbody tr th:only-of-type {\n",
       "        vertical-align: middle;\n",
       "    }\n",
       "\n",
       "    .dataframe tbody tr th {\n",
       "        vertical-align: top;\n",
       "    }\n",
       "\n",
       "    .dataframe thead th {\n",
       "        text-align: right;\n",
       "    }\n",
       "</style>\n",
       "<table border=\"1\" class=\"dataframe\">\n",
       "  <thead>\n",
       "    <tr style=\"text-align: right;\">\n",
       "      <th></th>\n",
       "      <th>Unnamed: 0</th>\n",
       "      <th>Offline Spend</th>\n",
       "      <th>Online Spend</th>\n",
       "    </tr>\n",
       "  </thead>\n",
       "  <tbody>\n",
       "    <tr>\n",
       "      <th>0</th>\n",
       "      <td>2017-01-01</td>\n",
       "      <td>4500</td>\n",
       "      <td>2424.50</td>\n",
       "    </tr>\n",
       "    <tr>\n",
       "      <th>1</th>\n",
       "      <td>2017-01-02</td>\n",
       "      <td>4500</td>\n",
       "      <td>3480.36</td>\n",
       "    </tr>\n",
       "    <tr>\n",
       "      <th>2</th>\n",
       "      <td>2017-01-03</td>\n",
       "      <td>4500</td>\n",
       "      <td>1576.38</td>\n",
       "    </tr>\n",
       "    <tr>\n",
       "      <th>3</th>\n",
       "      <td>2017-01-04</td>\n",
       "      <td>4500</td>\n",
       "      <td>2928.55</td>\n",
       "    </tr>\n",
       "    <tr>\n",
       "      <th>4</th>\n",
       "      <td>2017-01-05</td>\n",
       "      <td>4500</td>\n",
       "      <td>4055.30</td>\n",
       "    </tr>\n",
       "  </tbody>\n",
       "</table>\n",
       "</div>"
      ],
      "text/plain": [
       "   Unnamed: 0  Offline Spend  Online Spend\n",
       "0  2017-01-01           4500       2424.50\n",
       "1  2017-01-02           4500       3480.36\n",
       "2  2017-01-03           4500       1576.38\n",
       "3  2017-01-04           4500       2928.55\n",
       "4  2017-01-05           4500       4055.30"
      ]
     },
     "execution_count": 11,
     "metadata": {},
     "output_type": "execute_result"
    }
   ],
   "source": [
    "marketing_db.head()"
   ]
  },
  {
   "cell_type": "code",
   "execution_count": null,
   "metadata": {},
   "outputs": [],
   "source": [
    "# inner join key to retail on stock code\n",
    "#then inner join new retail_db on to online_db on product sku\n",
    "#then on marketing join on invoice date after changing the name"
   ]
  },
  {
   "cell_type": "code",
   "execution_count": 23,
   "metadata": {},
   "outputs": [],
   "source": [
    "try:\n",
    "    marketing_cols = ['InvoiceDate','Offline Budget','Online Budget']\n",
    "    marketing_trans = marketing_db[marketing_cols].copy()\n",
    "    \n",
    "    marketing_trans = marketing_trans.rename(columns={'Unnamed:0':'InvoiceDate',\n",
    "                                                      'Offline Spend':'Offline Budget',\n",
    "                                                      'Online Spend':'Online Budget'})\n",
    "except:    \n",
    "    marketing_errors+=1\n"
   ]
  },
  {
   "cell_type": "code",
   "execution_count": 25,
   "metadata": {},
   "outputs": [
    {
     "data": {
      "text/plain": [
       "6"
      ]
     },
     "execution_count": 25,
     "metadata": {},
     "output_type": "execute_result"
    }
   ],
   "source": [
    "marketing_errors"
   ]
  },
  {
   "cell_type": "code",
   "execution_count": 31,
   "metadata": {},
   "outputs": [
    {
     "data": {
      "text/html": [
       "<div>\n",
       "<style scoped>\n",
       "    .dataframe tbody tr th:only-of-type {\n",
       "        vertical-align: middle;\n",
       "    }\n",
       "\n",
       "    .dataframe tbody tr th {\n",
       "        vertical-align: top;\n",
       "    }\n",
       "\n",
       "    .dataframe thead th {\n",
       "        text-align: right;\n",
       "    }\n",
       "</style>\n",
       "<table border=\"1\" class=\"dataframe\">\n",
       "  <thead>\n",
       "    <tr style=\"text-align: right;\">\n",
       "      <th></th>\n",
       "      <th>InvoiceDate</th>\n",
       "      <th>Offline Budget</th>\n",
       "      <th>Online Budget</th>\n",
       "    </tr>\n",
       "  </thead>\n",
       "  <tbody>\n",
       "    <tr>\n",
       "      <th>0</th>\n",
       "      <td>2017-01-01</td>\n",
       "      <td>4500</td>\n",
       "      <td>2424.50</td>\n",
       "    </tr>\n",
       "    <tr>\n",
       "      <th>1</th>\n",
       "      <td>2017-01-02</td>\n",
       "      <td>4500</td>\n",
       "      <td>3480.36</td>\n",
       "    </tr>\n",
       "    <tr>\n",
       "      <th>2</th>\n",
       "      <td>2017-01-03</td>\n",
       "      <td>4500</td>\n",
       "      <td>1576.38</td>\n",
       "    </tr>\n",
       "    <tr>\n",
       "      <th>3</th>\n",
       "      <td>2017-01-04</td>\n",
       "      <td>4500</td>\n",
       "      <td>2928.55</td>\n",
       "    </tr>\n",
       "    <tr>\n",
       "      <th>4</th>\n",
       "      <td>2017-01-05</td>\n",
       "      <td>4500</td>\n",
       "      <td>4055.30</td>\n",
       "    </tr>\n",
       "  </tbody>\n",
       "</table>\n",
       "</div>"
      ],
      "text/plain": [
       "  InvoiceDate  Offline Budget  Online Budget\n",
       "0  2017-01-01            4500        2424.50\n",
       "1  2017-01-02            4500        3480.36\n",
       "2  2017-01-03            4500        1576.38\n",
       "3  2017-01-04            4500        2928.55\n",
       "4  2017-01-05            4500        4055.30"
      ]
     },
     "execution_count": 31,
     "metadata": {},
     "output_type": "execute_result"
    }
   ],
   "source": [
    "marketing_cols = ['Unnamed: 0','Offline Spend','Online Spend']\n",
    "marketing_trans = marketing_db[marketing_cols].copy()\n",
    "\n",
    "marketing_trans = marketing_trans.rename(columns={'Unnamed: 0':'InvoiceDate',\n",
    "                                                  'Offline Spend':'Offline Budget',\n",
    "                                                  'Online Spend':'Online Budget'})\n",
    "marketing_trans.head()"
   ]
  },
  {
   "cell_type": "code",
   "execution_count": 28,
   "metadata": {},
   "outputs": [
    {
     "data": {
      "text/plain": [
       "Index(['Unnamed: 0', 'Offline Spend', 'Online Spend'], dtype='object')"
      ]
     },
     "execution_count": 28,
     "metadata": {},
     "output_type": "execute_result"
    }
   ],
   "source": []
  },
  {
   "cell_type": "code",
   "execution_count": 32,
   "metadata": {},
   "outputs": [],
   "source": [
    "connection_string = \"postgres:dragon@localhost:5432/customer_db\"\n",
    "engine = create_engine(f'postgresql://{connection_string}')"
   ]
  },
  {
   "cell_type": "code",
   "execution_count": 33,
   "metadata": {},
   "outputs": [
    {
     "data": {
      "text/plain": [
       "['customer', 'emails', 'phone_numbers', 'courses', 'students']"
      ]
     },
     "execution_count": 33,
     "metadata": {},
     "output_type": "execute_result"
    }
   ],
   "source": [
    "engine.table_names()"
   ]
  },
  {
   "cell_type": "code",
   "execution_count": null,
   "metadata": {},
   "outputs": [],
   "source": []
  }
 ],
 "metadata": {
  "kernelspec": {
   "display_name": "Python 3",
   "language": "python",
   "name": "python3"
  },
  "language_info": {
   "codemirror_mode": {
    "name": "ipython",
    "version": 3
   },
   "file_extension": ".py",
   "mimetype": "text/x-python",
   "name": "python",
   "nbconvert_exporter": "python",
   "pygments_lexer": "ipython3",
   "version": "3.8.3"
  }
 },
 "nbformat": 4,
 "nbformat_minor": 4
}
