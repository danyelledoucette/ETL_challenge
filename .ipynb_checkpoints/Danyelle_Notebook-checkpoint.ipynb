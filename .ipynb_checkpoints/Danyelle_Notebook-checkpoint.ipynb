{
 "cells": [
  {
   "cell_type": "code",
   "execution_count": 1,
   "metadata": {},
   "outputs": [],
   "source": [
    "# !pip install psychopg2"
   ]
  },
  {
   "cell_type": "code",
   "execution_count": 2,
   "metadata": {
    "scrolled": true
   },
   "outputs": [],
   "source": [
    "import pandas as pd\n",
    "from sqlalchemy import create_engine, inspect\n",
    "from sqlalchemy.orm import Session\n",
    "from sqlalchemy.ext.automap import automap_base\n",
    "import time\n",
    "\n",
    "keysku_errors=0\n",
    "marketing_errors=0\n",
    "online_errors=0\n",
    "retail_errors=0"
   ]
  },
  {
   "cell_type": "code",
   "execution_count": 3,
   "metadata": {
    "scrolled": true
   },
   "outputs": [
    {
     "data": {
      "text/html": [
       "<div>\n",
       "<style scoped>\n",
       "    .dataframe tbody tr th:only-of-type {\n",
       "        vertical-align: middle;\n",
       "    }\n",
       "\n",
       "    .dataframe tbody tr th {\n",
       "        vertical-align: top;\n",
       "    }\n",
       "\n",
       "    .dataframe thead th {\n",
       "        text-align: right;\n",
       "    }\n",
       "</style>\n",
       "<table border=\"1\" class=\"dataframe\">\n",
       "  <thead>\n",
       "    <tr style=\"text-align: right;\">\n",
       "      <th></th>\n",
       "      <th>Product SKU</th>\n",
       "      <th>StockCode</th>\n",
       "    </tr>\n",
       "  </thead>\n",
       "  <tbody>\n",
       "    <tr>\n",
       "      <th>0</th>\n",
       "      <td>GGOENEBQ079099</td>\n",
       "      <td>21421</td>\n",
       "    </tr>\n",
       "    <tr>\n",
       "      <th>1</th>\n",
       "      <td>GGOENEBQ079199</td>\n",
       "      <td>21422</td>\n",
       "    </tr>\n",
       "    <tr>\n",
       "      <th>2</th>\n",
       "      <td>GGOENEBQ084699</td>\n",
       "      <td>22178</td>\n",
       "    </tr>\n",
       "    <tr>\n",
       "      <th>3</th>\n",
       "      <td>GGOEGAEB091117</td>\n",
       "      <td>20749</td>\n",
       "    </tr>\n",
       "    <tr>\n",
       "      <th>4</th>\n",
       "      <td>GGOENEBB078899</td>\n",
       "      <td>21056</td>\n",
       "    </tr>\n",
       "  </tbody>\n",
       "</table>\n",
       "</div>"
      ],
      "text/plain": [
       "      Product SKU  StockCode\n",
       "0  GGOENEBQ079099      21421\n",
       "1  GGOENEBQ079199      21422\n",
       "2  GGOENEBQ084699      22178\n",
       "3  GGOEGAEB091117      20749\n",
       "4  GGOENEBB078899      21056"
      ]
     },
     "execution_count": 3,
     "metadata": {},
     "output_type": "execute_result"
    }
   ],
   "source": [
    "key_sku_start_time = time.time()\n",
    "\n",
    "datapath = \"Resources/KEY_SKU.csv\"\n",
    "key_sku_df = pd.read_csv(datapath)\n",
    "key_sku_df.head()"
   ]
  },
  {
   "cell_type": "code",
   "execution_count": 4,
   "metadata": {},
   "outputs": [],
   "source": [
    "# key_sku_df.dtypes"
   ]
  },
  {
   "cell_type": "code",
   "execution_count": 5,
   "metadata": {},
   "outputs": [
    {
     "data": {
      "text/html": [
       "<div>\n",
       "<style scoped>\n",
       "    .dataframe tbody tr th:only-of-type {\n",
       "        vertical-align: middle;\n",
       "    }\n",
       "\n",
       "    .dataframe tbody tr th {\n",
       "        vertical-align: top;\n",
       "    }\n",
       "\n",
       "    .dataframe thead th {\n",
       "        text-align: right;\n",
       "    }\n",
       "</style>\n",
       "<table border=\"1\" class=\"dataframe\">\n",
       "  <thead>\n",
       "    <tr style=\"text-align: right;\">\n",
       "      <th></th>\n",
       "      <th>Unnamed: 0</th>\n",
       "      <th>Offline Spend</th>\n",
       "      <th>Online Spend</th>\n",
       "    </tr>\n",
       "  </thead>\n",
       "  <tbody>\n",
       "    <tr>\n",
       "      <th>0</th>\n",
       "      <td>2017-01-01</td>\n",
       "      <td>4500</td>\n",
       "      <td>2424.50</td>\n",
       "    </tr>\n",
       "    <tr>\n",
       "      <th>1</th>\n",
       "      <td>2017-01-02</td>\n",
       "      <td>4500</td>\n",
       "      <td>3480.36</td>\n",
       "    </tr>\n",
       "    <tr>\n",
       "      <th>2</th>\n",
       "      <td>2017-01-03</td>\n",
       "      <td>4500</td>\n",
       "      <td>1576.38</td>\n",
       "    </tr>\n",
       "    <tr>\n",
       "      <th>3</th>\n",
       "      <td>2017-01-04</td>\n",
       "      <td>4500</td>\n",
       "      <td>2928.55</td>\n",
       "    </tr>\n",
       "    <tr>\n",
       "      <th>4</th>\n",
       "      <td>2017-01-05</td>\n",
       "      <td>4500</td>\n",
       "      <td>4055.30</td>\n",
       "    </tr>\n",
       "  </tbody>\n",
       "</table>\n",
       "</div>"
      ],
      "text/plain": [
       "   Unnamed: 0  Offline Spend  Online Spend\n",
       "0  2017-01-01           4500       2424.50\n",
       "1  2017-01-02           4500       3480.36\n",
       "2  2017-01-03           4500       1576.38\n",
       "3  2017-01-04           4500       2928.55\n",
       "4  2017-01-05           4500       4055.30"
      ]
     },
     "execution_count": 5,
     "metadata": {},
     "output_type": "execute_result"
    }
   ],
   "source": [
    "marketing_start_time = time.time()\n",
    "\n",
    "datapath = \"Resources/Marketing_Spend.csv\"\n",
    "marketing_df = pd.read_csv(datapath)\n",
    "marketing_df.head()"
   ]
  },
  {
   "cell_type": "code",
   "execution_count": 6,
   "metadata": {},
   "outputs": [
    {
     "data": {
      "text/html": [
       "<div>\n",
       "<style scoped>\n",
       "    .dataframe tbody tr th:only-of-type {\n",
       "        vertical-align: middle;\n",
       "    }\n",
       "\n",
       "    .dataframe tbody tr th {\n",
       "        vertical-align: top;\n",
       "    }\n",
       "\n",
       "    .dataframe thead th {\n",
       "        text-align: right;\n",
       "    }\n",
       "</style>\n",
       "<table border=\"1\" class=\"dataframe\">\n",
       "  <thead>\n",
       "    <tr style=\"text-align: right;\">\n",
       "      <th></th>\n",
       "      <th>Transaction ID</th>\n",
       "      <th>Date</th>\n",
       "      <th>Product SKU</th>\n",
       "      <th>Product</th>\n",
       "      <th>Product Category (Enhanced E-commerce)</th>\n",
       "      <th>Quantity</th>\n",
       "      <th>Avg. Price</th>\n",
       "      <th>Revenue</th>\n",
       "      <th>Tax</th>\n",
       "      <th>Delivery</th>\n",
       "    </tr>\n",
       "  </thead>\n",
       "  <tbody>\n",
       "    <tr>\n",
       "      <th>0</th>\n",
       "      <td>48497</td>\n",
       "      <td>20171231</td>\n",
       "      <td>GGOENEBQ079099</td>\n",
       "      <td>Nest® Protect Smoke + CO White Battery Alarm-USA</td>\n",
       "      <td>Nest-USA</td>\n",
       "      <td>4.0</td>\n",
       "      <td>80.52</td>\n",
       "      <td>316.00</td>\n",
       "      <td>34.44</td>\n",
       "      <td>19.99</td>\n",
       "    </tr>\n",
       "    <tr>\n",
       "      <th>1</th>\n",
       "      <td>48496</td>\n",
       "      <td>20171231</td>\n",
       "      <td>GGOENEBQ079199</td>\n",
       "      <td>Nest® Protect Smoke + CO White Wired Alarm-USA</td>\n",
       "      <td>Nest-USA</td>\n",
       "      <td>5.0</td>\n",
       "      <td>80.52</td>\n",
       "      <td>395.00</td>\n",
       "      <td>33.14</td>\n",
       "      <td>6.50</td>\n",
       "    </tr>\n",
       "    <tr>\n",
       "      <th>2</th>\n",
       "      <td>48495</td>\n",
       "      <td>20171231</td>\n",
       "      <td>GGOENEBQ084699</td>\n",
       "      <td>Nest® Learning Thermostat 3rd Gen-USA - White</td>\n",
       "      <td>Nest-USA</td>\n",
       "      <td>1.0</td>\n",
       "      <td>151.88</td>\n",
       "      <td>149.00</td>\n",
       "      <td>12.06</td>\n",
       "      <td>6.50</td>\n",
       "    </tr>\n",
       "    <tr>\n",
       "      <th>3</th>\n",
       "      <td>48494</td>\n",
       "      <td>20171231</td>\n",
       "      <td>GGOEGAEB091117</td>\n",
       "      <td>Google Zip Hoodie Black</td>\n",
       "      <td>Apparel</td>\n",
       "      <td>1.0</td>\n",
       "      <td>48.92</td>\n",
       "      <td>47.99</td>\n",
       "      <td>3.82</td>\n",
       "      <td>6.50</td>\n",
       "    </tr>\n",
       "    <tr>\n",
       "      <th>4</th>\n",
       "      <td>48493</td>\n",
       "      <td>20171231</td>\n",
       "      <td>GGOENEBB078899</td>\n",
       "      <td>Nest® Cam Indoor Security Camera - USA</td>\n",
       "      <td>Nest-USA</td>\n",
       "      <td>1.0</td>\n",
       "      <td>121.30</td>\n",
       "      <td>119.00</td>\n",
       "      <td>8.31</td>\n",
       "      <td>6.50</td>\n",
       "    </tr>\n",
       "  </tbody>\n",
       "</table>\n",
       "</div>"
      ],
      "text/plain": [
       "   Transaction ID      Date     Product SKU  \\\n",
       "0           48497  20171231  GGOENEBQ079099   \n",
       "1           48496  20171231  GGOENEBQ079199   \n",
       "2           48495  20171231  GGOENEBQ084699   \n",
       "3           48494  20171231  GGOEGAEB091117   \n",
       "4           48493  20171231  GGOENEBB078899   \n",
       "\n",
       "                                            Product  \\\n",
       "0  Nest® Protect Smoke + CO White Battery Alarm-USA   \n",
       "1    Nest® Protect Smoke + CO White Wired Alarm-USA   \n",
       "2     Nest® Learning Thermostat 3rd Gen-USA - White   \n",
       "3                           Google Zip Hoodie Black   \n",
       "4            Nest® Cam Indoor Security Camera - USA   \n",
       "\n",
       "  Product Category (Enhanced E-commerce)  Quantity  Avg. Price  Revenue  \\\n",
       "0                               Nest-USA       4.0       80.52   316.00   \n",
       "1                               Nest-USA       5.0       80.52   395.00   \n",
       "2                               Nest-USA       1.0      151.88   149.00   \n",
       "3                                Apparel       1.0       48.92    47.99   \n",
       "4                               Nest-USA       1.0      121.30   119.00   \n",
       "\n",
       "     Tax  Delivery  \n",
       "0  34.44     19.99  \n",
       "1  33.14      6.50  \n",
       "2  12.06      6.50  \n",
       "3   3.82      6.50  \n",
       "4   8.31      6.50  "
      ]
     },
     "execution_count": 6,
     "metadata": {},
     "output_type": "execute_result"
    }
   ],
   "source": [
    "online_start_time = time.time()\n",
    "\n",
    "datapath = \"Resources/Online.csv\"\n",
    "online_df = pd.read_csv(datapath)\n",
    "online_df.head()"
   ]
  },
  {
   "cell_type": "code",
   "execution_count": 7,
   "metadata": {},
   "outputs": [
    {
     "data": {
      "text/plain": [
       "Transaction ID                              int64\n",
       "Date                                        int64\n",
       "Product SKU                                object\n",
       "Product                                    object\n",
       "Product Category (Enhanced E-commerce)     object\n",
       "Quantity                                  float64\n",
       "Avg. Price                                float64\n",
       "Revenue                                   float64\n",
       "Tax                                       float64\n",
       "Delivery                                  float64\n",
       "dtype: object"
      ]
     },
     "execution_count": 7,
     "metadata": {},
     "output_type": "execute_result"
    }
   ],
   "source": [
    "online_df.dtypes"
   ]
  },
  {
   "cell_type": "code",
   "execution_count": 8,
   "metadata": {
    "scrolled": true
   },
   "outputs": [
    {
     "data": {
      "text/html": [
       "<div>\n",
       "<style scoped>\n",
       "    .dataframe tbody tr th:only-of-type {\n",
       "        vertical-align: middle;\n",
       "    }\n",
       "\n",
       "    .dataframe tbody tr th {\n",
       "        vertical-align: top;\n",
       "    }\n",
       "\n",
       "    .dataframe thead th {\n",
       "        text-align: right;\n",
       "    }\n",
       "</style>\n",
       "<table border=\"1\" class=\"dataframe\">\n",
       "  <thead>\n",
       "    <tr style=\"text-align: right;\">\n",
       "      <th></th>\n",
       "      <th>InvoiceNo</th>\n",
       "      <th>InvoiceDate</th>\n",
       "      <th>StockCode</th>\n",
       "      <th>Quantity</th>\n",
       "    </tr>\n",
       "  </thead>\n",
       "  <tbody>\n",
       "    <tr>\n",
       "      <th>0</th>\n",
       "      <td>536598</td>\n",
       "      <td>2017-01-01</td>\n",
       "      <td>21421</td>\n",
       "      <td>1</td>\n",
       "    </tr>\n",
       "    <tr>\n",
       "      <th>1</th>\n",
       "      <td>536598</td>\n",
       "      <td>2017-01-01</td>\n",
       "      <td>21422</td>\n",
       "      <td>2</td>\n",
       "    </tr>\n",
       "    <tr>\n",
       "      <th>2</th>\n",
       "      <td>536598</td>\n",
       "      <td>2017-01-01</td>\n",
       "      <td>22178</td>\n",
       "      <td>26</td>\n",
       "    </tr>\n",
       "    <tr>\n",
       "      <th>3</th>\n",
       "      <td>536599</td>\n",
       "      <td>2017-01-01</td>\n",
       "      <td>20749</td>\n",
       "      <td>2</td>\n",
       "    </tr>\n",
       "    <tr>\n",
       "      <th>4</th>\n",
       "      <td>536599</td>\n",
       "      <td>2017-01-01</td>\n",
       "      <td>21056</td>\n",
       "      <td>2</td>\n",
       "    </tr>\n",
       "  </tbody>\n",
       "</table>\n",
       "</div>"
      ],
      "text/plain": [
       "   InvoiceNo InvoiceDate  StockCode  Quantity\n",
       "0     536598  2017-01-01      21421         1\n",
       "1     536598  2017-01-01      21422         2\n",
       "2     536598  2017-01-01      22178        26\n",
       "3     536599  2017-01-01      20749         2\n",
       "4     536599  2017-01-01      21056         2"
      ]
     },
     "execution_count": 8,
     "metadata": {},
     "output_type": "execute_result"
    }
   ],
   "source": [
    "retail_start_time = time.time()\n",
    "\n",
    "datapath = \"Resources/Retail.csv\"\n",
    "retail_df = pd.read_csv(datapath)\n",
    "retail_df.head()"
   ]
  },
  {
   "cell_type": "code",
   "execution_count": 9,
   "metadata": {},
   "outputs": [
    {
     "data": {
      "text/html": [
       "<div>\n",
       "<style scoped>\n",
       "    .dataframe tbody tr th:only-of-type {\n",
       "        vertical-align: middle;\n",
       "    }\n",
       "\n",
       "    .dataframe tbody tr th {\n",
       "        vertical-align: top;\n",
       "    }\n",
       "\n",
       "    .dataframe thead th {\n",
       "        text-align: right;\n",
       "    }\n",
       "</style>\n",
       "<table border=\"1\" class=\"dataframe\">\n",
       "  <thead>\n",
       "    <tr style=\"text-align: right;\">\n",
       "      <th></th>\n",
       "      <th>product_sku</th>\n",
       "      <th>stock_code</th>\n",
       "    </tr>\n",
       "  </thead>\n",
       "  <tbody>\n",
       "    <tr>\n",
       "      <th>0</th>\n",
       "      <td>GGOENEBQ079099</td>\n",
       "      <td>21421</td>\n",
       "    </tr>\n",
       "    <tr>\n",
       "      <th>1</th>\n",
       "      <td>GGOENEBQ079199</td>\n",
       "      <td>21422</td>\n",
       "    </tr>\n",
       "    <tr>\n",
       "      <th>2</th>\n",
       "      <td>GGOENEBQ084699</td>\n",
       "      <td>22178</td>\n",
       "    </tr>\n",
       "    <tr>\n",
       "      <th>3</th>\n",
       "      <td>GGOEGAEB091117</td>\n",
       "      <td>20749</td>\n",
       "    </tr>\n",
       "    <tr>\n",
       "      <th>4</th>\n",
       "      <td>GGOENEBB078899</td>\n",
       "      <td>21056</td>\n",
       "    </tr>\n",
       "  </tbody>\n",
       "</table>\n",
       "</div>"
      ],
      "text/plain": [
       "      product_sku  stock_code\n",
       "0  GGOENEBQ079099       21421\n",
       "1  GGOENEBQ079199       21422\n",
       "2  GGOENEBQ084699       22178\n",
       "3  GGOEGAEB091117       20749\n",
       "4  GGOENEBB078899       21056"
      ]
     },
     "execution_count": 9,
     "metadata": {},
     "output_type": "execute_result"
    }
   ],
   "source": [
    "# Create a filtered dataframe from specific columns\n",
    "try:\n",
    "    key_sku_transformed= key_sku_df.rename(columns={\"Product SKU\":\"product_sku\",\n",
    "                                                \"StockCode\":\"stock_code\"})    \n",
    "except:\n",
    "    keysku_errors+=1\n",
    "\n",
    "key_sku_transformed.head()"
   ]
  },
  {
   "cell_type": "code",
   "execution_count": 10,
   "metadata": {},
   "outputs": [
    {
     "data": {
      "text/plain": [
       "product_sku    object\n",
       "stock_code      int64\n",
       "dtype: object"
      ]
     },
     "execution_count": 10,
     "metadata": {},
     "output_type": "execute_result"
    }
   ],
   "source": [
    "key_sku_transformed.dtypes"
   ]
  },
  {
   "cell_type": "code",
   "execution_count": 11,
   "metadata": {},
   "outputs": [],
   "source": [
    "#create report count\n",
    "key_sku_count=key_sku_transformed.shape[0]\n"
   ]
  },
  {
   "cell_type": "code",
   "execution_count": 12,
   "metadata": {},
   "outputs": [],
   "source": [
    "retail_df['InvoiceDate']=pd.to_datetime(retail_df['InvoiceDate'].astype(str), format='%Y/%m/%d')\n"
   ]
  },
  {
   "cell_type": "code",
   "execution_count": 13,
   "metadata": {},
   "outputs": [
    {
     "data": {
      "text/html": [
       "<div>\n",
       "<style scoped>\n",
       "    .dataframe tbody tr th:only-of-type {\n",
       "        vertical-align: middle;\n",
       "    }\n",
       "\n",
       "    .dataframe tbody tr th {\n",
       "        vertical-align: top;\n",
       "    }\n",
       "\n",
       "    .dataframe thead th {\n",
       "        text-align: right;\n",
       "    }\n",
       "</style>\n",
       "<table border=\"1\" class=\"dataframe\">\n",
       "  <thead>\n",
       "    <tr style=\"text-align: right;\">\n",
       "      <th></th>\n",
       "      <th>invoice_no</th>\n",
       "      <th>invoice_date</th>\n",
       "      <th>stock_code</th>\n",
       "      <th>quantity</th>\n",
       "    </tr>\n",
       "  </thead>\n",
       "  <tbody>\n",
       "    <tr>\n",
       "      <th>0</th>\n",
       "      <td>536598</td>\n",
       "      <td>2017-01-01</td>\n",
       "      <td>21421</td>\n",
       "      <td>1</td>\n",
       "    </tr>\n",
       "    <tr>\n",
       "      <th>1</th>\n",
       "      <td>536598</td>\n",
       "      <td>2017-01-01</td>\n",
       "      <td>21422</td>\n",
       "      <td>2</td>\n",
       "    </tr>\n",
       "    <tr>\n",
       "      <th>2</th>\n",
       "      <td>536598</td>\n",
       "      <td>2017-01-01</td>\n",
       "      <td>22178</td>\n",
       "      <td>26</td>\n",
       "    </tr>\n",
       "    <tr>\n",
       "      <th>3</th>\n",
       "      <td>536599</td>\n",
       "      <td>2017-01-01</td>\n",
       "      <td>20749</td>\n",
       "      <td>2</td>\n",
       "    </tr>\n",
       "    <tr>\n",
       "      <th>4</th>\n",
       "      <td>536599</td>\n",
       "      <td>2017-01-01</td>\n",
       "      <td>21056</td>\n",
       "      <td>2</td>\n",
       "    </tr>\n",
       "  </tbody>\n",
       "</table>\n",
       "</div>"
      ],
      "text/plain": [
       "   invoice_no invoice_date  stock_code  quantity\n",
       "0      536598   2017-01-01       21421         1\n",
       "1      536598   2017-01-01       21422         2\n",
       "2      536598   2017-01-01       22178        26\n",
       "3      536599   2017-01-01       20749         2\n",
       "4      536599   2017-01-01       21056         2"
      ]
     },
     "execution_count": 13,
     "metadata": {},
     "output_type": "execute_result"
    }
   ],
   "source": [
    "# Create a filtered dataframe from specific columns\n",
    "try:\n",
    "    retail_transformed= retail_df.rename(columns={\"InvoiceNo\": \"invoice_no\", \n",
    "                                                    \"InvoiceDate\":\"invoice_date\", \n",
    "                                                    \"StockCode\":\"stock_code\", \n",
    "                                                  \"Quantity\":\"quantity\"})\n",
    "    \n",
    "except:\n",
    "    retail_errors+=1\n",
    "\n",
    "retail_transformed.head()"
   ]
  },
  {
   "cell_type": "code",
   "execution_count": 14,
   "metadata": {},
   "outputs": [],
   "source": [
    "#create report count\n",
    "retail_count=retail_transformed.shape[0]\n"
   ]
  },
  {
   "cell_type": "code",
   "execution_count": 15,
   "metadata": {},
   "outputs": [
    {
     "data": {
      "text/plain": [
       "invoice_no               int64\n",
       "invoice_date    datetime64[ns]\n",
       "stock_code               int64\n",
       "quantity                 int64\n",
       "dtype: object"
      ]
     },
     "execution_count": 15,
     "metadata": {},
     "output_type": "execute_result"
    }
   ],
   "source": [
    "retail_transformed.dtypes"
   ]
  },
  {
   "cell_type": "code",
   "execution_count": 16,
   "metadata": {},
   "outputs": [],
   "source": [
    "marketing_df['Unnamed: 0']=pd.to_datetime(marketing_df['Unnamed: 0'].astype(str), format='%Y/%m/%d')\n"
   ]
  },
  {
   "cell_type": "code",
   "execution_count": 17,
   "metadata": {},
   "outputs": [
    {
     "data": {
      "text/plain": [
       "Unnamed: 0       datetime64[ns]\n",
       "Offline Spend             int64\n",
       "Online Spend            float64\n",
       "dtype: object"
      ]
     },
     "execution_count": 17,
     "metadata": {},
     "output_type": "execute_result"
    }
   ],
   "source": [
    "marketing_df.dtypes"
   ]
  },
  {
   "cell_type": "code",
   "execution_count": 18,
   "metadata": {
    "scrolled": true
   },
   "outputs": [
    {
     "data": {
      "text/html": [
       "<div>\n",
       "<style scoped>\n",
       "    .dataframe tbody tr th:only-of-type {\n",
       "        vertical-align: middle;\n",
       "    }\n",
       "\n",
       "    .dataframe tbody tr th {\n",
       "        vertical-align: top;\n",
       "    }\n",
       "\n",
       "    .dataframe thead th {\n",
       "        text-align: right;\n",
       "    }\n",
       "</style>\n",
       "<table border=\"1\" class=\"dataframe\">\n",
       "  <thead>\n",
       "    <tr style=\"text-align: right;\">\n",
       "      <th></th>\n",
       "      <th>invoice_date</th>\n",
       "      <th>offline_spending</th>\n",
       "      <th>online_spending</th>\n",
       "    </tr>\n",
       "  </thead>\n",
       "  <tbody>\n",
       "    <tr>\n",
       "      <th>0</th>\n",
       "      <td>2017-01-01</td>\n",
       "      <td>4500</td>\n",
       "      <td>2424.50</td>\n",
       "    </tr>\n",
       "    <tr>\n",
       "      <th>1</th>\n",
       "      <td>2017-01-02</td>\n",
       "      <td>4500</td>\n",
       "      <td>3480.36</td>\n",
       "    </tr>\n",
       "    <tr>\n",
       "      <th>2</th>\n",
       "      <td>2017-01-03</td>\n",
       "      <td>4500</td>\n",
       "      <td>1576.38</td>\n",
       "    </tr>\n",
       "    <tr>\n",
       "      <th>3</th>\n",
       "      <td>2017-01-04</td>\n",
       "      <td>4500</td>\n",
       "      <td>2928.55</td>\n",
       "    </tr>\n",
       "    <tr>\n",
       "      <th>4</th>\n",
       "      <td>2017-01-05</td>\n",
       "      <td>4500</td>\n",
       "      <td>4055.30</td>\n",
       "    </tr>\n",
       "  </tbody>\n",
       "</table>\n",
       "</div>"
      ],
      "text/plain": [
       "  invoice_date  offline_spending  online_spending\n",
       "0   2017-01-01              4500          2424.50\n",
       "1   2017-01-02              4500          3480.36\n",
       "2   2017-01-03              4500          1576.38\n",
       "3   2017-01-04              4500          2928.55\n",
       "4   2017-01-05              4500          4055.30"
      ]
     },
     "execution_count": 18,
     "metadata": {},
     "output_type": "execute_result"
    }
   ],
   "source": [
    "# Create a filtered dataframe from specific columns\n",
    "try:\n",
    "    marketing_transformed= marketing_df.rename(columns={\"Unnamed: 0\": \"invoice_date\", \n",
    "                                                                 \"Offline Spend\":\"offline_spending\", \n",
    "                                                                 \"Online Spend\":\"online_spending\"})\n",
    "    \n",
    "except:\n",
    "    marketing_errors+=1\n",
    "\n",
    "marketing_transformed.head()"
   ]
  },
  {
   "cell_type": "code",
   "execution_count": 19,
   "metadata": {},
   "outputs": [
    {
     "data": {
      "text/plain": [
       "invoice_date        datetime64[ns]\n",
       "offline_spending             int64\n",
       "online_spending            float64\n",
       "dtype: object"
      ]
     },
     "execution_count": 19,
     "metadata": {},
     "output_type": "execute_result"
    }
   ],
   "source": [
    "marketing_transformed.dtypes"
   ]
  },
  {
   "cell_type": "code",
   "execution_count": 20,
   "metadata": {},
   "outputs": [],
   "source": [
    "# format spending columns as $xx.xx\n",
    "# marketing_transformed['online_spending'] = marketing_transformed['online_spending'].astype(int)\n",
    "# marketing_transformed['offline_spending'] = marketing_transformed['offline_spending'].astype(int)\n",
    "# marketing_df['date']=pd.to_datetime(marketing_df['date'].astype(str), format='%Y/%m/%d')\n",
    "# marketing_transformed.head()\n"
   ]
  },
  {
   "cell_type": "code",
   "execution_count": 21,
   "metadata": {},
   "outputs": [],
   "source": [
    "#create report count\n",
    "marketing_count=marketing_transformed.shape[0]\n"
   ]
  },
  {
   "cell_type": "code",
   "execution_count": 22,
   "metadata": {},
   "outputs": [],
   "source": [
    "# online_df.describe()"
   ]
  },
  {
   "cell_type": "code",
   "execution_count": 23,
   "metadata": {
    "scrolled": true
   },
   "outputs": [
    {
     "data": {
      "text/html": [
       "<div>\n",
       "<style scoped>\n",
       "    .dataframe tbody tr th:only-of-type {\n",
       "        vertical-align: middle;\n",
       "    }\n",
       "\n",
       "    .dataframe tbody tr th {\n",
       "        vertical-align: top;\n",
       "    }\n",
       "\n",
       "    .dataframe thead th {\n",
       "        text-align: right;\n",
       "    }\n",
       "</style>\n",
       "<table border=\"1\" class=\"dataframe\">\n",
       "  <thead>\n",
       "    <tr style=\"text-align: right;\">\n",
       "      <th></th>\n",
       "      <th>transaction_id</th>\n",
       "      <th>invoice_date</th>\n",
       "      <th>product_sku</th>\n",
       "      <th>product</th>\n",
       "      <th>product_category</th>\n",
       "      <th>quantity</th>\n",
       "      <th>ave_price</th>\n",
       "      <th>revenue</th>\n",
       "      <th>tax</th>\n",
       "      <th>delivery_cost</th>\n",
       "    </tr>\n",
       "  </thead>\n",
       "  <tbody>\n",
       "    <tr>\n",
       "      <th>0</th>\n",
       "      <td>48497</td>\n",
       "      <td>2017-12-31</td>\n",
       "      <td>GGOENEBQ079099</td>\n",
       "      <td>Nest® Protect Smoke + CO White Battery Alarm-USA</td>\n",
       "      <td>Nest-USA</td>\n",
       "      <td>4.0</td>\n",
       "      <td>80.52</td>\n",
       "      <td>316.00</td>\n",
       "      <td>34.44</td>\n",
       "      <td>19.99</td>\n",
       "    </tr>\n",
       "    <tr>\n",
       "      <th>1</th>\n",
       "      <td>48496</td>\n",
       "      <td>2017-12-31</td>\n",
       "      <td>GGOENEBQ079199</td>\n",
       "      <td>Nest® Protect Smoke + CO White Wired Alarm-USA</td>\n",
       "      <td>Nest-USA</td>\n",
       "      <td>5.0</td>\n",
       "      <td>80.52</td>\n",
       "      <td>395.00</td>\n",
       "      <td>33.14</td>\n",
       "      <td>6.50</td>\n",
       "    </tr>\n",
       "    <tr>\n",
       "      <th>2</th>\n",
       "      <td>48495</td>\n",
       "      <td>2017-12-31</td>\n",
       "      <td>GGOENEBQ084699</td>\n",
       "      <td>Nest® Learning Thermostat 3rd Gen-USA - White</td>\n",
       "      <td>Nest-USA</td>\n",
       "      <td>1.0</td>\n",
       "      <td>151.88</td>\n",
       "      <td>149.00</td>\n",
       "      <td>12.06</td>\n",
       "      <td>6.50</td>\n",
       "    </tr>\n",
       "    <tr>\n",
       "      <th>3</th>\n",
       "      <td>48494</td>\n",
       "      <td>2017-12-31</td>\n",
       "      <td>GGOEGAEB091117</td>\n",
       "      <td>Google Zip Hoodie Black</td>\n",
       "      <td>Apparel</td>\n",
       "      <td>1.0</td>\n",
       "      <td>48.92</td>\n",
       "      <td>47.99</td>\n",
       "      <td>3.82</td>\n",
       "      <td>6.50</td>\n",
       "    </tr>\n",
       "    <tr>\n",
       "      <th>4</th>\n",
       "      <td>48493</td>\n",
       "      <td>2017-12-31</td>\n",
       "      <td>GGOENEBB078899</td>\n",
       "      <td>Nest® Cam Indoor Security Camera - USA</td>\n",
       "      <td>Nest-USA</td>\n",
       "      <td>1.0</td>\n",
       "      <td>121.30</td>\n",
       "      <td>119.00</td>\n",
       "      <td>8.31</td>\n",
       "      <td>6.50</td>\n",
       "    </tr>\n",
       "  </tbody>\n",
       "</table>\n",
       "</div>"
      ],
      "text/plain": [
       "   transaction_id invoice_date     product_sku  \\\n",
       "0           48497   2017-12-31  GGOENEBQ079099   \n",
       "1           48496   2017-12-31  GGOENEBQ079199   \n",
       "2           48495   2017-12-31  GGOENEBQ084699   \n",
       "3           48494   2017-12-31  GGOEGAEB091117   \n",
       "4           48493   2017-12-31  GGOENEBB078899   \n",
       "\n",
       "                                            product product_category  \\\n",
       "0  Nest® Protect Smoke + CO White Battery Alarm-USA         Nest-USA   \n",
       "1    Nest® Protect Smoke + CO White Wired Alarm-USA         Nest-USA   \n",
       "2     Nest® Learning Thermostat 3rd Gen-USA - White         Nest-USA   \n",
       "3                           Google Zip Hoodie Black          Apparel   \n",
       "4            Nest® Cam Indoor Security Camera - USA         Nest-USA   \n",
       "\n",
       "   quantity  ave_price  revenue    tax  delivery_cost  \n",
       "0       4.0      80.52   316.00  34.44          19.99  \n",
       "1       5.0      80.52   395.00  33.14           6.50  \n",
       "2       1.0     151.88   149.00  12.06           6.50  \n",
       "3       1.0      48.92    47.99   3.82           6.50  \n",
       "4       1.0     121.30   119.00   8.31           6.50  "
      ]
     },
     "execution_count": 23,
     "metadata": {},
     "output_type": "execute_result"
    }
   ],
   "source": [
    "online_df['Date']=pd.to_datetime(online_df['Date'].astype(str), format='%Y/%m/%d')\n",
    "\n",
    "# Create a filtered dataframe from specific columns\n",
    "try:\n",
    "    \n",
    "# Rename the column headers\n",
    "    online_transformed=online_df.rename(columns={\"Transaction ID\":\"transaction_id\", \n",
    "                                                 \"Date\":\"invoice_date\", \n",
    "                                                 \"Product SKU\":\"product_sku\",\n",
    "                                                 \"Product\":\"product\",\n",
    "                                                 \"Product Category (Enhanced E-commerce)\":\"product_category\",\n",
    "                                                 \"Quantity\":\"quantity\",\n",
    "                                                 \"Avg. Price\":\"ave_price\",\n",
    "                                                 \"Revenue\":\"revenue\",\n",
    "                                                 \"Tax\":\"tax\",\n",
    "                                                 \"Delivery\":\"delivery_cost\"})\n",
    "     \n",
    "\n",
    "except:\n",
    "    online_errors+=1\n",
    "\n",
    "online_transformed.head()"
   ]
  },
  {
   "cell_type": "code",
   "execution_count": 24,
   "metadata": {},
   "outputs": [
    {
     "data": {
      "text/plain": [
       "transaction_id               int64\n",
       "invoice_date        datetime64[ns]\n",
       "product_sku                 object\n",
       "product                     object\n",
       "product_category            object\n",
       "quantity                   float64\n",
       "ave_price                  float64\n",
       "revenue                    float64\n",
       "tax                        float64\n",
       "delivery_cost              float64\n",
       "dtype: object"
      ]
     },
     "execution_count": 24,
     "metadata": {},
     "output_type": "execute_result"
    }
   ],
   "source": [
    "online_transformed.dtypes"
   ]
  },
  {
   "cell_type": "code",
   "execution_count": 25,
   "metadata": {},
   "outputs": [],
   "source": [
    "# create report count\n",
    "online_count=online_transformed.shape[0]\n"
   ]
  },
  {
   "cell_type": "code",
   "execution_count": 26,
   "metadata": {},
   "outputs": [],
   "source": [
    "# inner join key_sku to retail on stock_code\n",
    "\n",
    "# then inner join new retail_db on to online_db on product sku\n",
    "\n",
    "# then on marketing join on invoice date after changing the name"
   ]
  },
  {
   "cell_type": "code",
   "execution_count": 27,
   "metadata": {
    "scrolled": true
   },
   "outputs": [
    {
     "data": {
      "text/html": [
       "<div>\n",
       "<style scoped>\n",
       "    .dataframe tbody tr th:only-of-type {\n",
       "        vertical-align: middle;\n",
       "    }\n",
       "\n",
       "    .dataframe tbody tr th {\n",
       "        vertical-align: top;\n",
       "    }\n",
       "\n",
       "    .dataframe thead th {\n",
       "        text-align: right;\n",
       "    }\n",
       "</style>\n",
       "<table border=\"1\" class=\"dataframe\">\n",
       "  <thead>\n",
       "    <tr style=\"text-align: right;\">\n",
       "      <th></th>\n",
       "      <th>product_sku</th>\n",
       "      <th>stock_code</th>\n",
       "      <th>invoice_date</th>\n",
       "      <th>quantity</th>\n",
       "    </tr>\n",
       "    <tr>\n",
       "      <th>invoice_no</th>\n",
       "      <th></th>\n",
       "      <th></th>\n",
       "      <th></th>\n",
       "      <th></th>\n",
       "    </tr>\n",
       "  </thead>\n",
       "  <tbody>\n",
       "    <tr>\n",
       "      <th>536598</th>\n",
       "      <td>GGOENEBQ079099</td>\n",
       "      <td>21421</td>\n",
       "      <td>2017-01-01</td>\n",
       "      <td>1</td>\n",
       "    </tr>\n",
       "    <tr>\n",
       "      <th>536999</th>\n",
       "      <td>GGOENEBQ079099</td>\n",
       "      <td>21421</td>\n",
       "      <td>2017-01-02</td>\n",
       "      <td>1</td>\n",
       "    </tr>\n",
       "    <tr>\n",
       "      <th>537137</th>\n",
       "      <td>GGOENEBQ079099</td>\n",
       "      <td>21421</td>\n",
       "      <td>2017-01-04</td>\n",
       "      <td>2</td>\n",
       "    </tr>\n",
       "    <tr>\n",
       "      <th>538296</th>\n",
       "      <td>GGOENEBQ079099</td>\n",
       "      <td>21421</td>\n",
       "      <td>2017-01-09</td>\n",
       "      <td>1</td>\n",
       "    </tr>\n",
       "    <tr>\n",
       "      <th>540247</th>\n",
       "      <td>GGOENEBQ079099</td>\n",
       "      <td>21421</td>\n",
       "      <td>2017-02-04</td>\n",
       "      <td>1</td>\n",
       "    </tr>\n",
       "  </tbody>\n",
       "</table>\n",
       "</div>"
      ],
      "text/plain": [
       "               product_sku  stock_code invoice_date  quantity\n",
       "invoice_no                                                   \n",
       "536598      GGOENEBQ079099       21421   2017-01-01         1\n",
       "536999      GGOENEBQ079099       21421   2017-01-02         1\n",
       "537137      GGOENEBQ079099       21421   2017-01-04         2\n",
       "538296      GGOENEBQ079099       21421   2017-01-09         1\n",
       "540247      GGOENEBQ079099       21421   2017-02-04         1"
      ]
     },
     "execution_count": 27,
     "metadata": {},
     "output_type": "execute_result"
    }
   ],
   "source": [
    "# Join key_sku and retail\n",
    "sku_retail_join=pd.merge(key_sku_transformed, retail_transformed, \n",
    "                        on='stock_code', how='inner')\n",
    "\n",
    "# Set index\n",
    "sku_retail_join.set_index('invoice_no', inplace=True)\n",
    "sku_retail_join.head()"
   ]
  },
  {
   "cell_type": "code",
   "execution_count": 28,
   "metadata": {},
   "outputs": [
    {
     "data": {
      "text/plain": [
       "product_sku             object\n",
       "stock_code               int64\n",
       "invoice_date    datetime64[ns]\n",
       "quantity                 int64\n",
       "dtype: object"
      ]
     },
     "execution_count": 28,
     "metadata": {},
     "output_type": "execute_result"
    }
   ],
   "source": [
    "sku_retail_join.dtypes"
   ]
  },
  {
   "cell_type": "code",
   "execution_count": 29,
   "metadata": {},
   "outputs": [
    {
     "data": {
      "text/html": [
       "<div>\n",
       "<style scoped>\n",
       "    .dataframe tbody tr th:only-of-type {\n",
       "        vertical-align: middle;\n",
       "    }\n",
       "\n",
       "    .dataframe tbody tr th {\n",
       "        vertical-align: top;\n",
       "    }\n",
       "\n",
       "    .dataframe thead th {\n",
       "        text-align: right;\n",
       "    }\n",
       "</style>\n",
       "<table border=\"1\" class=\"dataframe\">\n",
       "  <thead>\n",
       "    <tr style=\"text-align: right;\">\n",
       "      <th></th>\n",
       "      <th>stock_code</th>\n",
       "      <th>transaction_id</th>\n",
       "      <th>invoice_date</th>\n",
       "      <th>product</th>\n",
       "      <th>product_category</th>\n",
       "      <th>quantity</th>\n",
       "      <th>ave_price</th>\n",
       "      <th>revenue</th>\n",
       "      <th>tax</th>\n",
       "      <th>delivery_cost</th>\n",
       "    </tr>\n",
       "    <tr>\n",
       "      <th>product_sku</th>\n",
       "      <th></th>\n",
       "      <th></th>\n",
       "      <th></th>\n",
       "      <th></th>\n",
       "      <th></th>\n",
       "      <th></th>\n",
       "      <th></th>\n",
       "      <th></th>\n",
       "      <th></th>\n",
       "      <th></th>\n",
       "    </tr>\n",
       "  </thead>\n",
       "  <tbody>\n",
       "    <tr>\n",
       "      <th>GGOENEBQ079099</th>\n",
       "      <td>21421</td>\n",
       "      <td>48497</td>\n",
       "      <td>2017-12-31</td>\n",
       "      <td>Nest® Protect Smoke + CO White Battery Alarm-USA</td>\n",
       "      <td>Nest-USA</td>\n",
       "      <td>4.0</td>\n",
       "      <td>80.52</td>\n",
       "      <td>316.0</td>\n",
       "      <td>34.44</td>\n",
       "      <td>19.99</td>\n",
       "    </tr>\n",
       "    <tr>\n",
       "      <th>GGOENEBQ079099</th>\n",
       "      <td>21421</td>\n",
       "      <td>48491</td>\n",
       "      <td>2017-12-31</td>\n",
       "      <td>Nest® Protect Smoke + CO White Battery Alarm-USA</td>\n",
       "      <td>Nest-USA</td>\n",
       "      <td>2.0</td>\n",
       "      <td>80.52</td>\n",
       "      <td>376.0</td>\n",
       "      <td>0.00</td>\n",
       "      <td>6.50</td>\n",
       "    </tr>\n",
       "    <tr>\n",
       "      <th>GGOENEBQ079099</th>\n",
       "      <td>21421</td>\n",
       "      <td>48475</td>\n",
       "      <td>2017-12-31</td>\n",
       "      <td>Nest® Protect Smoke + CO White Battery Alarm-USA</td>\n",
       "      <td>Nest-USA</td>\n",
       "      <td>4.0</td>\n",
       "      <td>80.52</td>\n",
       "      <td>1022.0</td>\n",
       "      <td>92.58</td>\n",
       "      <td>6.50</td>\n",
       "    </tr>\n",
       "  </tbody>\n",
       "</table>\n",
       "</div>"
      ],
      "text/plain": [
       "                stock_code  transaction_id invoice_date  \\\n",
       "product_sku                                               \n",
       "GGOENEBQ079099       21421           48497   2017-12-31   \n",
       "GGOENEBQ079099       21421           48491   2017-12-31   \n",
       "GGOENEBQ079099       21421           48475   2017-12-31   \n",
       "\n",
       "                                                         product  \\\n",
       "product_sku                                                        \n",
       "GGOENEBQ079099  Nest® Protect Smoke + CO White Battery Alarm-USA   \n",
       "GGOENEBQ079099  Nest® Protect Smoke + CO White Battery Alarm-USA   \n",
       "GGOENEBQ079099  Nest® Protect Smoke + CO White Battery Alarm-USA   \n",
       "\n",
       "               product_category  quantity  ave_price  revenue    tax  \\\n",
       "product_sku                                                            \n",
       "GGOENEBQ079099         Nest-USA       4.0      80.52    316.0  34.44   \n",
       "GGOENEBQ079099         Nest-USA       2.0      80.52    376.0   0.00   \n",
       "GGOENEBQ079099         Nest-USA       4.0      80.52   1022.0  92.58   \n",
       "\n",
       "                delivery_cost  \n",
       "product_sku                    \n",
       "GGOENEBQ079099          19.99  \n",
       "GGOENEBQ079099           6.50  \n",
       "GGOENEBQ079099           6.50  "
      ]
     },
     "execution_count": 29,
     "metadata": {},
     "output_type": "execute_result"
    }
   ],
   "source": [
    "# Merge key_sku and online\n",
    "sku_online_join=pd.merge(key_sku_transformed, online_transformed, \n",
    "                        on='product_sku', how='inner')\n",
    "\n",
    "# Set index\n",
    "sku_online_join.set_index('product_sku', inplace=True)\n",
    "sku_online_join.head(3)"
   ]
  },
  {
   "cell_type": "code",
   "execution_count": 30,
   "metadata": {
    "scrolled": true
   },
   "outputs": [
    {
     "data": {
      "text/html": [
       "<div>\n",
       "<style scoped>\n",
       "    .dataframe tbody tr th:only-of-type {\n",
       "        vertical-align: middle;\n",
       "    }\n",
       "\n",
       "    .dataframe tbody tr th {\n",
       "        vertical-align: top;\n",
       "    }\n",
       "\n",
       "    .dataframe thead th {\n",
       "        text-align: right;\n",
       "    }\n",
       "</style>\n",
       "<table border=\"1\" class=\"dataframe\">\n",
       "  <thead>\n",
       "    <tr style=\"text-align: right;\">\n",
       "      <th></th>\n",
       "      <th>product_sku_x</th>\n",
       "      <th>stock_code</th>\n",
       "      <th>invoice_date</th>\n",
       "      <th>quantity_x</th>\n",
       "      <th>transaction_id</th>\n",
       "      <th>product_sku_y</th>\n",
       "      <th>product</th>\n",
       "      <th>product_category</th>\n",
       "      <th>quantity_y</th>\n",
       "      <th>ave_price</th>\n",
       "      <th>revenue</th>\n",
       "      <th>tax</th>\n",
       "      <th>delivery_cost</th>\n",
       "    </tr>\n",
       "  </thead>\n",
       "  <tbody>\n",
       "    <tr>\n",
       "      <th>0</th>\n",
       "      <td>GGOENEBQ079099</td>\n",
       "      <td>21421</td>\n",
       "      <td>2017-01-01</td>\n",
       "      <td>1</td>\n",
       "      <td>16736</td>\n",
       "      <td>GGOENEBJ079499</td>\n",
       "      <td>Nest® Learning Thermostat 3rd Gen-USA - Stainl...</td>\n",
       "      <td>Nest-USA</td>\n",
       "      <td>1.0</td>\n",
       "      <td>153.71</td>\n",
       "      <td>149.0</td>\n",
       "      <td>10.89</td>\n",
       "      <td>6.5</td>\n",
       "    </tr>\n",
       "    <tr>\n",
       "      <th>1</th>\n",
       "      <td>GGOENEBQ079099</td>\n",
       "      <td>21421</td>\n",
       "      <td>2017-01-01</td>\n",
       "      <td>1</td>\n",
       "      <td>16733</td>\n",
       "      <td>GGOENEBB078899</td>\n",
       "      <td>Nest® Cam Indoor Security Camera - USA</td>\n",
       "      <td>Nest-USA</td>\n",
       "      <td>1.0</td>\n",
       "      <td>122.77</td>\n",
       "      <td>119.0</td>\n",
       "      <td>11.00</td>\n",
       "      <td>6.5</td>\n",
       "    </tr>\n",
       "  </tbody>\n",
       "</table>\n",
       "</div>"
      ],
      "text/plain": [
       "    product_sku_x  stock_code invoice_date  quantity_x  transaction_id  \\\n",
       "0  GGOENEBQ079099       21421   2017-01-01           1           16736   \n",
       "1  GGOENEBQ079099       21421   2017-01-01           1           16733   \n",
       "\n",
       "    product_sku_y                                            product  \\\n",
       "0  GGOENEBJ079499  Nest® Learning Thermostat 3rd Gen-USA - Stainl...   \n",
       "1  GGOENEBB078899             Nest® Cam Indoor Security Camera - USA   \n",
       "\n",
       "  product_category  quantity_y  ave_price  revenue    tax  delivery_cost  \n",
       "0         Nest-USA         1.0     153.71    149.0  10.89            6.5  \n",
       "1         Nest-USA         1.0     122.77    119.0  11.00            6.5  "
      ]
     },
     "execution_count": 30,
     "metadata": {},
     "output_type": "execute_result"
    }
   ],
   "source": [
    "# Merge new sku_stock_join and online\n",
    "retail_online_join=pd.merge(sku_retail_join, online_transformed, \n",
    "                        on='invoice_date', how='inner')\n",
    "\n",
    "retail_online_join.head(2)"
   ]
  },
  {
   "cell_type": "code",
   "execution_count": 31,
   "metadata": {},
   "outputs": [
    {
     "data": {
      "text/plain": [
       "product_sku_x               object\n",
       "stock_code                   int64\n",
       "invoice_date        datetime64[ns]\n",
       "quantity_x                   int64\n",
       "transaction_id               int64\n",
       "product_sku_y               object\n",
       "product                     object\n",
       "product_category            object\n",
       "quantity_y                 float64\n",
       "ave_price                  float64\n",
       "revenue                    float64\n",
       "tax                        float64\n",
       "delivery_cost              float64\n",
       "dtype: object"
      ]
     },
     "execution_count": 31,
     "metadata": {},
     "output_type": "execute_result"
    }
   ],
   "source": [
    "retail_online_join.dtypes"
   ]
  },
  {
   "cell_type": "code",
   "execution_count": 32,
   "metadata": {
    "scrolled": true
   },
   "outputs": [
    {
     "data": {
      "text/html": [
       "<div>\n",
       "<style scoped>\n",
       "    .dataframe tbody tr th:only-of-type {\n",
       "        vertical-align: middle;\n",
       "    }\n",
       "\n",
       "    .dataframe tbody tr th {\n",
       "        vertical-align: top;\n",
       "    }\n",
       "\n",
       "    .dataframe thead th {\n",
       "        text-align: right;\n",
       "    }\n",
       "</style>\n",
       "<table border=\"1\" class=\"dataframe\">\n",
       "  <thead>\n",
       "    <tr style=\"text-align: right;\">\n",
       "      <th></th>\n",
       "      <th>product_sku</th>\n",
       "      <th>stock_code</th>\n",
       "      <th>invoice_date</th>\n",
       "      <th>quantity_retail</th>\n",
       "      <th>transaction_id</th>\n",
       "      <th>product</th>\n",
       "      <th>product_category</th>\n",
       "      <th>quantity_online</th>\n",
       "      <th>ave_price</th>\n",
       "      <th>revenue</th>\n",
       "      <th>tax</th>\n",
       "      <th>delivery_cost</th>\n",
       "    </tr>\n",
       "  </thead>\n",
       "  <tbody>\n",
       "    <tr>\n",
       "      <th>0</th>\n",
       "      <td>GGOENEBQ079099</td>\n",
       "      <td>21421</td>\n",
       "      <td>2017-01-01</td>\n",
       "      <td>1</td>\n",
       "      <td>16736</td>\n",
       "      <td>Nest® Learning Thermostat 3rd Gen-USA - Stainl...</td>\n",
       "      <td>Nest-USA</td>\n",
       "      <td>1.0</td>\n",
       "      <td>153.71</td>\n",
       "      <td>149.0</td>\n",
       "      <td>10.89</td>\n",
       "      <td>6.5</td>\n",
       "    </tr>\n",
       "    <tr>\n",
       "      <th>1</th>\n",
       "      <td>GGOENEBQ079099</td>\n",
       "      <td>21421</td>\n",
       "      <td>2017-01-01</td>\n",
       "      <td>1</td>\n",
       "      <td>16733</td>\n",
       "      <td>Nest® Cam Indoor Security Camera - USA</td>\n",
       "      <td>Nest-USA</td>\n",
       "      <td>1.0</td>\n",
       "      <td>122.77</td>\n",
       "      <td>119.0</td>\n",
       "      <td>11.00</td>\n",
       "      <td>6.5</td>\n",
       "    </tr>\n",
       "  </tbody>\n",
       "</table>\n",
       "</div>"
      ],
      "text/plain": [
       "      product_sku  stock_code invoice_date  quantity_retail  transaction_id  \\\n",
       "0  GGOENEBQ079099       21421   2017-01-01                1           16736   \n",
       "1  GGOENEBQ079099       21421   2017-01-01                1           16733   \n",
       "\n",
       "                                             product product_category  \\\n",
       "0  Nest® Learning Thermostat 3rd Gen-USA - Stainl...         Nest-USA   \n",
       "1             Nest® Cam Indoor Security Camera - USA         Nest-USA   \n",
       "\n",
       "   quantity_online  ave_price  revenue    tax  delivery_cost  \n",
       "0              1.0     153.71    149.0  10.89            6.5  \n",
       "1              1.0     122.77    119.0  11.00            6.5  "
      ]
     },
     "execution_count": 32,
     "metadata": {},
     "output_type": "execute_result"
    }
   ],
   "source": [
    "# Rename and drop unnecessary columns\n",
    "new_retail_online=retail_online_join.rename(columns={\"quantity_x\":\"quantity_retail\",\n",
    "                                 \"quantity_y\":\"quantity_online\",\n",
    "                                 \"product_sku_x\":\"product_sku\"})\\\n",
    "                                .drop(columns=['product_sku_y'])\n",
    "new_retail_online.head(2)\n"
   ]
  },
  {
   "cell_type": "code",
   "execution_count": 33,
   "metadata": {},
   "outputs": [
    {
     "data": {
      "text/html": [
       "<div>\n",
       "<style scoped>\n",
       "    .dataframe tbody tr th:only-of-type {\n",
       "        vertical-align: middle;\n",
       "    }\n",
       "\n",
       "    .dataframe tbody tr th {\n",
       "        vertical-align: top;\n",
       "    }\n",
       "\n",
       "    .dataframe thead th {\n",
       "        text-align: right;\n",
       "    }\n",
       "</style>\n",
       "<table border=\"1\" class=\"dataframe\">\n",
       "  <thead>\n",
       "    <tr style=\"text-align: right;\">\n",
       "      <th></th>\n",
       "      <th>product_sku</th>\n",
       "      <th>stock_code</th>\n",
       "      <th>invoice_date</th>\n",
       "      <th>quantity_retail</th>\n",
       "      <th>transaction_id</th>\n",
       "      <th>product</th>\n",
       "      <th>product_category</th>\n",
       "      <th>quantity_online</th>\n",
       "      <th>ave_price</th>\n",
       "      <th>revenue</th>\n",
       "      <th>tax</th>\n",
       "      <th>delivery_cost</th>\n",
       "      <th>offline_spending</th>\n",
       "      <th>online_spending</th>\n",
       "    </tr>\n",
       "  </thead>\n",
       "  <tbody>\n",
       "    <tr>\n",
       "      <th>0</th>\n",
       "      <td>GGOENEBQ079099</td>\n",
       "      <td>21421</td>\n",
       "      <td>2017-01-01</td>\n",
       "      <td>1</td>\n",
       "      <td>16736</td>\n",
       "      <td>Nest® Learning Thermostat 3rd Gen-USA - Stainl...</td>\n",
       "      <td>Nest-USA</td>\n",
       "      <td>1.0</td>\n",
       "      <td>153.71</td>\n",
       "      <td>149.0</td>\n",
       "      <td>10.89</td>\n",
       "      <td>6.5</td>\n",
       "      <td>4500</td>\n",
       "      <td>2424.5</td>\n",
       "    </tr>\n",
       "    <tr>\n",
       "      <th>1</th>\n",
       "      <td>GGOENEBQ079099</td>\n",
       "      <td>21421</td>\n",
       "      <td>2017-01-01</td>\n",
       "      <td>1</td>\n",
       "      <td>16733</td>\n",
       "      <td>Nest® Cam Indoor Security Camera - USA</td>\n",
       "      <td>Nest-USA</td>\n",
       "      <td>1.0</td>\n",
       "      <td>122.77</td>\n",
       "      <td>119.0</td>\n",
       "      <td>11.00</td>\n",
       "      <td>6.5</td>\n",
       "      <td>4500</td>\n",
       "      <td>2424.5</td>\n",
       "    </tr>\n",
       "  </tbody>\n",
       "</table>\n",
       "</div>"
      ],
      "text/plain": [
       "      product_sku  stock_code invoice_date  quantity_retail  transaction_id  \\\n",
       "0  GGOENEBQ079099       21421   2017-01-01                1           16736   \n",
       "1  GGOENEBQ079099       21421   2017-01-01                1           16733   \n",
       "\n",
       "                                             product product_category  \\\n",
       "0  Nest® Learning Thermostat 3rd Gen-USA - Stainl...         Nest-USA   \n",
       "1             Nest® Cam Indoor Security Camera - USA         Nest-USA   \n",
       "\n",
       "   quantity_online  ave_price  revenue    tax  delivery_cost  \\\n",
       "0              1.0     153.71    149.0  10.89            6.5   \n",
       "1              1.0     122.77    119.0  11.00            6.5   \n",
       "\n",
       "   offline_spending  online_spending  \n",
       "0              4500           2424.5  \n",
       "1              4500           2424.5  "
      ]
     },
     "execution_count": 33,
     "metadata": {},
     "output_type": "execute_result"
    }
   ],
   "source": [
    "# Marketing join on new_retail\n",
    "final_join=pd.merge(new_retail_online, marketing_transformed, \n",
    "                        on='invoice_date', how='inner')\n",
    "\n",
    "final_join.head(2)"
   ]
  },
  {
   "cell_type": "code",
   "execution_count": 34,
   "metadata": {},
   "outputs": [
    {
     "data": {
      "text/plain": [
       "product_sku                 object\n",
       "stock_code                   int64\n",
       "invoice_date        datetime64[ns]\n",
       "quantity_retail              int64\n",
       "transaction_id               int64\n",
       "product                     object\n",
       "product_category            object\n",
       "quantity_online            float64\n",
       "ave_price                  float64\n",
       "revenue                    float64\n",
       "tax                        float64\n",
       "delivery_cost              float64\n",
       "offline_spending             int64\n",
       "online_spending            float64\n",
       "dtype: object"
      ]
     },
     "execution_count": 34,
     "metadata": {},
     "output_type": "execute_result"
    }
   ],
   "source": [
    "final_join.dtypes"
   ]
  },
  {
   "cell_type": "code",
   "execution_count": 35,
   "metadata": {},
   "outputs": [
    {
     "data": {
      "text/html": [
       "<div>\n",
       "<style scoped>\n",
       "    .dataframe tbody tr th:only-of-type {\n",
       "        vertical-align: middle;\n",
       "    }\n",
       "\n",
       "    .dataframe tbody tr th {\n",
       "        vertical-align: top;\n",
       "    }\n",
       "\n",
       "    .dataframe thead th {\n",
       "        text-align: right;\n",
       "    }\n",
       "</style>\n",
       "<table border=\"1\" class=\"dataframe\">\n",
       "  <thead>\n",
       "    <tr style=\"text-align: right;\">\n",
       "      <th></th>\n",
       "      <th>product_sku</th>\n",
       "      <th>stock_code</th>\n",
       "      <th>quantity_retail</th>\n",
       "      <th>transaction_id</th>\n",
       "      <th>product</th>\n",
       "      <th>product_category</th>\n",
       "      <th>quantity_online</th>\n",
       "      <th>ave_price</th>\n",
       "      <th>revenue</th>\n",
       "      <th>tax</th>\n",
       "      <th>delivery_cost</th>\n",
       "      <th>offline_spending</th>\n",
       "      <th>online_spending</th>\n",
       "    </tr>\n",
       "    <tr>\n",
       "      <th>invoice_date</th>\n",
       "      <th></th>\n",
       "      <th></th>\n",
       "      <th></th>\n",
       "      <th></th>\n",
       "      <th></th>\n",
       "      <th></th>\n",
       "      <th></th>\n",
       "      <th></th>\n",
       "      <th></th>\n",
       "      <th></th>\n",
       "      <th></th>\n",
       "      <th></th>\n",
       "      <th></th>\n",
       "    </tr>\n",
       "  </thead>\n",
       "  <tbody>\n",
       "    <tr>\n",
       "      <th>2017-01-01</th>\n",
       "      <td>GGOENEBQ079099</td>\n",
       "      <td>21421</td>\n",
       "      <td>1</td>\n",
       "      <td>16736</td>\n",
       "      <td>Nest® Learning Thermostat 3rd Gen-USA - Stainl...</td>\n",
       "      <td>Nest-USA</td>\n",
       "      <td>1.0</td>\n",
       "      <td>153.71</td>\n",
       "      <td>149.0</td>\n",
       "      <td>10.89</td>\n",
       "      <td>6.5</td>\n",
       "      <td>4500</td>\n",
       "      <td>2424.5</td>\n",
       "    </tr>\n",
       "    <tr>\n",
       "      <th>2017-01-01</th>\n",
       "      <td>GGOENEBQ079099</td>\n",
       "      <td>21421</td>\n",
       "      <td>1</td>\n",
       "      <td>16733</td>\n",
       "      <td>Nest® Cam Indoor Security Camera - USA</td>\n",
       "      <td>Nest-USA</td>\n",
       "      <td>1.0</td>\n",
       "      <td>122.77</td>\n",
       "      <td>119.0</td>\n",
       "      <td>11.00</td>\n",
       "      <td>6.5</td>\n",
       "      <td>4500</td>\n",
       "      <td>2424.5</td>\n",
       "    </tr>\n",
       "    <tr>\n",
       "      <th>2017-01-01</th>\n",
       "      <td>GGOENEBQ079099</td>\n",
       "      <td>21421</td>\n",
       "      <td>1</td>\n",
       "      <td>16732</td>\n",
       "      <td>Nest® Learning Thermostat 3rd Gen-USA - Stainl...</td>\n",
       "      <td>Nest-USA</td>\n",
       "      <td>1.0</td>\n",
       "      <td>153.71</td>\n",
       "      <td>149.0</td>\n",
       "      <td>13.22</td>\n",
       "      <td>6.5</td>\n",
       "      <td>4500</td>\n",
       "      <td>2424.5</td>\n",
       "    </tr>\n",
       "    <tr>\n",
       "      <th>2017-01-01</th>\n",
       "      <td>GGOENEBQ079099</td>\n",
       "      <td>21421</td>\n",
       "      <td>1</td>\n",
       "      <td>16731</td>\n",
       "      <td>Nest® Cam Outdoor Security Camera - USA</td>\n",
       "      <td>Nest-USA</td>\n",
       "      <td>2.0</td>\n",
       "      <td>122.77</td>\n",
       "      <td>238.0</td>\n",
       "      <td>20.80</td>\n",
       "      <td>6.5</td>\n",
       "      <td>4500</td>\n",
       "      <td>2424.5</td>\n",
       "    </tr>\n",
       "    <tr>\n",
       "      <th>2017-01-01</th>\n",
       "      <td>GGOENEBQ079099</td>\n",
       "      <td>21421</td>\n",
       "      <td>1</td>\n",
       "      <td>16727</td>\n",
       "      <td>Nest® Cam Indoor Security Camera - USA</td>\n",
       "      <td>Nest-USA</td>\n",
       "      <td>1.0</td>\n",
       "      <td>122.77</td>\n",
       "      <td>119.0</td>\n",
       "      <td>11.00</td>\n",
       "      <td>6.5</td>\n",
       "      <td>4500</td>\n",
       "      <td>2424.5</td>\n",
       "    </tr>\n",
       "  </tbody>\n",
       "</table>\n",
       "</div>"
      ],
      "text/plain": [
       "                 product_sku  stock_code  quantity_retail  transaction_id  \\\n",
       "invoice_date                                                                \n",
       "2017-01-01    GGOENEBQ079099       21421                1           16736   \n",
       "2017-01-01    GGOENEBQ079099       21421                1           16733   \n",
       "2017-01-01    GGOENEBQ079099       21421                1           16732   \n",
       "2017-01-01    GGOENEBQ079099       21421                1           16731   \n",
       "2017-01-01    GGOENEBQ079099       21421                1           16727   \n",
       "\n",
       "                                                        product  \\\n",
       "invoice_date                                                      \n",
       "2017-01-01    Nest® Learning Thermostat 3rd Gen-USA - Stainl...   \n",
       "2017-01-01               Nest® Cam Indoor Security Camera - USA   \n",
       "2017-01-01    Nest® Learning Thermostat 3rd Gen-USA - Stainl...   \n",
       "2017-01-01              Nest® Cam Outdoor Security Camera - USA   \n",
       "2017-01-01               Nest® Cam Indoor Security Camera - USA   \n",
       "\n",
       "             product_category  quantity_online  ave_price  revenue    tax  \\\n",
       "invoice_date                                                                \n",
       "2017-01-01           Nest-USA              1.0     153.71    149.0  10.89   \n",
       "2017-01-01           Nest-USA              1.0     122.77    119.0  11.00   \n",
       "2017-01-01           Nest-USA              1.0     153.71    149.0  13.22   \n",
       "2017-01-01           Nest-USA              2.0     122.77    238.0  20.80   \n",
       "2017-01-01           Nest-USA              1.0     122.77    119.0  11.00   \n",
       "\n",
       "              delivery_cost  offline_spending  online_spending  \n",
       "invoice_date                                                    \n",
       "2017-01-01              6.5              4500           2424.5  \n",
       "2017-01-01              6.5              4500           2424.5  \n",
       "2017-01-01              6.5              4500           2424.5  \n",
       "2017-01-01              6.5              4500           2424.5  \n",
       "2017-01-01              6.5              4500           2424.5  "
      ]
     },
     "execution_count": 35,
     "metadata": {},
     "output_type": "execute_result"
    }
   ],
   "source": [
    "# Set index\n",
    "final_join.set_index('invoice_date', inplace=True)\n",
    "final_join.head()"
   ]
  },
  {
   "cell_type": "code",
   "execution_count": 36,
   "metadata": {},
   "outputs": [],
   "source": [
    "# pip install psycopg2-binary"
   ]
  },
  {
   "cell_type": "code",
   "execution_count": null,
   "metadata": {},
   "outputs": [],
   "source": []
  },
  {
   "cell_type": "code",
   "execution_count": 37,
   "metadata": {
    "scrolled": true
   },
   "outputs": [],
   "source": [
    "# Connect to database\n",
    "import psycopg2 as psycopg"
   ]
  },
  {
   "cell_type": "code",
   "execution_count": 38,
   "metadata": {
    "scrolled": true
   },
   "outputs": [],
   "source": [
    "# conn = psycopg.connect(\"dbname=ETL-challenge user=postgres password=postgres\")\n",
    "connection_string=\"postgres:postgres@localhost:5432/ETL-challenge\""
   ]
  },
  {
   "cell_type": "code",
   "execution_count": 39,
   "metadata": {},
   "outputs": [],
   "source": [
    "# engine = create_engine(f'postgresql://{conn}')\n",
    "engine = create_engine(f'postgresql://{connection_string}')"
   ]
  },
  {
   "cell_type": "code",
   "execution_count": 40,
   "metadata": {},
   "outputs": [
    {
     "data": {
      "text/plain": [
       "['key_sku', 'retail', 'marketing', 'online']"
      ]
     },
     "execution_count": 40,
     "metadata": {},
     "output_type": "execute_result"
    }
   ],
   "source": [
    "engine.table_names()"
   ]
  },
  {
   "cell_type": "code",
   "execution_count": 41,
   "metadata": {},
   "outputs": [],
   "source": [
    "# Load dataframes into database\n",
    "key_sku_transformed.to_sql(name='key_sku', con=engine, if_exists='append', index=True)\n",
    "key_sku_end_time=time.time() - key_sku_start_time"
   ]
  },
  {
   "cell_type": "code",
   "execution_count": 42,
   "metadata": {},
   "outputs": [],
   "source": [
    "retail_transformed.to_sql(name='retail', con=engine, if_exists='append', index=True)\n",
    "retail_end_time=time.time() - retail_start_time"
   ]
  },
  {
   "cell_type": "code",
   "execution_count": 43,
   "metadata": {},
   "outputs": [],
   "source": [
    "marketing_transformed.to_sql(name='marketing', con=engine, if_exists='append', index=True)\n",
    "marketing_end_time=time.time() - marketing_start_time"
   ]
  },
  {
   "cell_type": "code",
   "execution_count": 44,
   "metadata": {},
   "outputs": [],
   "source": [
    "online_transformed.to_sql(name='online', con=engine, if_exists='append', index=True)\n",
    "online_end_time=time.time() - online_start_time"
   ]
  },
  {
   "cell_type": "code",
   "execution_count": null,
   "metadata": {},
   "outputs": [],
   "source": []
  },
  {
   "cell_type": "code",
   "execution_count": 45,
   "metadata": {},
   "outputs": [
    {
     "name": "stdout",
     "output_type": "stream",
     "text": [
      "16.36705493927002\n",
      "33.968624114990234\n",
      "34.13666749000549\n",
      "41.213024854660034\n"
     ]
    }
   ],
   "source": [
    "print(key_sku_end_time)\n",
    "print(retail_end_time)\n",
    "print(marketing_end_time)\n",
    "print(online_end_time)\n"
   ]
  },
  {
   "cell_type": "code",
   "execution_count": 46,
   "metadata": {},
   "outputs": [
    {
     "name": "stdout",
     "output_type": "stream",
     "text": [
      "1178\n",
      "181247\n",
      "365\n",
      "54144\n"
     ]
    }
   ],
   "source": [
    "print(key_sku_count)\n",
    "print(retail_count)\n",
    "print(marketing_count)\n",
    "print(online_count)"
   ]
  },
  {
   "cell_type": "code",
   "execution_count": 47,
   "metadata": {},
   "outputs": [
    {
     "name": "stdout",
     "output_type": "stream",
     "text": [
      "0\n",
      "0\n",
      "0\n",
      "0\n"
     ]
    }
   ],
   "source": [
    "print(keysku_errors)\n",
    "print(retail_errors)\n",
    "print(marketing_errors)\n",
    "print(online_errors)"
   ]
  },
  {
   "cell_type": "code",
   "execution_count": 48,
   "metadata": {},
   "outputs": [
    {
     "data": {
      "text/html": [
       "<div>\n",
       "<style scoped>\n",
       "    .dataframe tbody tr th:only-of-type {\n",
       "        vertical-align: middle;\n",
       "    }\n",
       "\n",
       "    .dataframe tbody tr th {\n",
       "        vertical-align: top;\n",
       "    }\n",
       "\n",
       "    .dataframe thead th {\n",
       "        text-align: right;\n",
       "    }\n",
       "</style>\n",
       "<table border=\"1\" class=\"dataframe\">\n",
       "  <thead>\n",
       "    <tr style=\"text-align: right;\">\n",
       "      <th></th>\n",
       "      <th>index</th>\n",
       "      <th>transaction_id</th>\n",
       "      <th>invoice_date</th>\n",
       "      <th>product_sku</th>\n",
       "      <th>product</th>\n",
       "      <th>product_category</th>\n",
       "      <th>quantity</th>\n",
       "      <th>ave_price</th>\n",
       "      <th>revenue</th>\n",
       "      <th>tax</th>\n",
       "      <th>delivery_cost</th>\n",
       "    </tr>\n",
       "  </thead>\n",
       "  <tbody>\n",
       "    <tr>\n",
       "      <th>0</th>\n",
       "      <td>0</td>\n",
       "      <td>48497</td>\n",
       "      <td>2017-12-31</td>\n",
       "      <td>GGOENEBQ079099</td>\n",
       "      <td>Nest® Protect Smoke + CO White Battery Alarm-USA</td>\n",
       "      <td>Nest-USA</td>\n",
       "      <td>4.0</td>\n",
       "      <td>80.52</td>\n",
       "      <td>316.0</td>\n",
       "      <td>34.44</td>\n",
       "      <td>19.99</td>\n",
       "    </tr>\n",
       "    <tr>\n",
       "      <th>1</th>\n",
       "      <td>1</td>\n",
       "      <td>48496</td>\n",
       "      <td>2017-12-31</td>\n",
       "      <td>GGOENEBQ079199</td>\n",
       "      <td>Nest® Protect Smoke + CO White Wired Alarm-USA</td>\n",
       "      <td>Nest-USA</td>\n",
       "      <td>5.0</td>\n",
       "      <td>80.52</td>\n",
       "      <td>395.0</td>\n",
       "      <td>33.14</td>\n",
       "      <td>6.50</td>\n",
       "    </tr>\n",
       "  </tbody>\n",
       "</table>\n",
       "</div>"
      ],
      "text/plain": [
       "   index  transaction_id invoice_date     product_sku  \\\n",
       "0      0           48497   2017-12-31  GGOENEBQ079099   \n",
       "1      1           48496   2017-12-31  GGOENEBQ079199   \n",
       "\n",
       "                                            product product_category  \\\n",
       "0  Nest® Protect Smoke + CO White Battery Alarm-USA         Nest-USA   \n",
       "1    Nest® Protect Smoke + CO White Wired Alarm-USA         Nest-USA   \n",
       "\n",
       "   quantity  ave_price  revenue    tax  delivery_cost  \n",
       "0       4.0      80.52    316.0  34.44          19.99  \n",
       "1       5.0      80.52    395.0  33.14           6.50  "
      ]
     },
     "execution_count": 48,
     "metadata": {},
     "output_type": "execute_result"
    }
   ],
   "source": [
    "# Confirm data has been added by querying a table\n",
    "pd.read_sql_query('SELECT * FROM online', con=engine).head(2)"
   ]
  },
  {
   "cell_type": "code",
   "execution_count": 49,
   "metadata": {},
   "outputs": [],
   "source": [
    "danyelle_etl_report=pd.DataFrame({'domain': ['key_sku','retail','marketing','online'],\n",
    "                        'row_counts': [key_sku_count, retail_count, \n",
    "                                       marketing_count, online_count],\n",
    "                        'processing_time':[str(round(key_sku_end_time,2)) + ' seconds',\n",
    "                                          str(round(retail_end_time,2)) + ' seconds',\n",
    "                                          str(round(marketing_end_time,2)) + ' seconds',\n",
    "                                          str(round(online_end_time,2)) + ' seconds'],\n",
    "                        'error_count':[keysku_errors, retail_errors, \n",
    "                                       marketing_errors, online_errors]})"
   ]
  },
  {
   "cell_type": "code",
   "execution_count": 50,
   "metadata": {},
   "outputs": [
    {
     "data": {
      "text/html": [
       "<div>\n",
       "<style scoped>\n",
       "    .dataframe tbody tr th:only-of-type {\n",
       "        vertical-align: middle;\n",
       "    }\n",
       "\n",
       "    .dataframe tbody tr th {\n",
       "        vertical-align: top;\n",
       "    }\n",
       "\n",
       "    .dataframe thead th {\n",
       "        text-align: right;\n",
       "    }\n",
       "</style>\n",
       "<table border=\"1\" class=\"dataframe\">\n",
       "  <thead>\n",
       "    <tr style=\"text-align: right;\">\n",
       "      <th></th>\n",
       "      <th>domain</th>\n",
       "      <th>row_counts</th>\n",
       "      <th>processing_time</th>\n",
       "      <th>error_count</th>\n",
       "    </tr>\n",
       "  </thead>\n",
       "  <tbody>\n",
       "    <tr>\n",
       "      <th>0</th>\n",
       "      <td>key_sku</td>\n",
       "      <td>1178</td>\n",
       "      <td>16.37 seconds</td>\n",
       "      <td>0</td>\n",
       "    </tr>\n",
       "    <tr>\n",
       "      <th>1</th>\n",
       "      <td>retail</td>\n",
       "      <td>181247</td>\n",
       "      <td>33.97 seconds</td>\n",
       "      <td>0</td>\n",
       "    </tr>\n",
       "    <tr>\n",
       "      <th>2</th>\n",
       "      <td>marketing</td>\n",
       "      <td>365</td>\n",
       "      <td>34.14 seconds</td>\n",
       "      <td>0</td>\n",
       "    </tr>\n",
       "    <tr>\n",
       "      <th>3</th>\n",
       "      <td>online</td>\n",
       "      <td>54144</td>\n",
       "      <td>41.21 seconds</td>\n",
       "      <td>0</td>\n",
       "    </tr>\n",
       "  </tbody>\n",
       "</table>\n",
       "</div>"
      ],
      "text/plain": [
       "      domain  row_counts processing_time  error_count\n",
       "0    key_sku        1178   16.37 seconds            0\n",
       "1     retail      181247   33.97 seconds            0\n",
       "2  marketing         365   34.14 seconds            0\n",
       "3     online       54144   41.21 seconds            0"
      ]
     },
     "execution_count": 50,
     "metadata": {},
     "output_type": "execute_result"
    }
   ],
   "source": [
    "danyelle_etl_report.head()"
   ]
  },
  {
   "cell_type": "code",
   "execution_count": 51,
   "metadata": {},
   "outputs": [],
   "source": [
    "danyelle_etl_report.to_html('danyelle_etl_report.html', index=False)"
   ]
  },
  {
   "cell_type": "code",
   "execution_count": null,
   "metadata": {},
   "outputs": [],
   "source": []
  }
 ],
 "metadata": {
  "kernelspec": {
   "display_name": "Python 3",
   "language": "python",
   "name": "python3"
  },
  "language_info": {
   "codemirror_mode": {
    "name": "ipython",
    "version": 3
   },
   "file_extension": ".py",
   "mimetype": "text/x-python",
   "name": "python",
   "nbconvert_exporter": "python",
   "pygments_lexer": "ipython3",
   "version": "3.8.5"
  }
 },
 "nbformat": 4,
 "nbformat_minor": 4
}
